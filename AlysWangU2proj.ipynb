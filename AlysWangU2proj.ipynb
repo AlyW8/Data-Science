{
  "nbformat": 4,
  "nbformat_minor": 0,
  "metadata": {
    "colab": {
      "provenance": [],
      "include_colab_link": true
    },
    "kernelspec": {
      "name": "python3",
      "display_name": "Python 3"
    },
    "language_info": {
      "name": "python"
    }
  },
  "cells": [
    {
      "cell_type": "markdown",
      "metadata": {
        "id": "view-in-github",
        "colab_type": "text"
      },
      "source": [
        "<a href=\"https://colab.research.google.com/github/AlyW8/Data-Science-Exercises/blob/main/AlysWangU2proj.ipynb\" target=\"_parent\"><img src=\"https://colab.research.google.com/assets/colab-badge.svg\" alt=\"Open In Colab\"/></a>"
      ]
    },
    {
      "cell_type": "markdown",
      "source": [
        "You need to submit a .ipynb file with the first four letters of one first name, the first four letters of one last name, and U2proj.\n",
        "\n",
        "Ex1.\n",
        "\n",
        "A student named Avy Aguacate Avocado Palta will submit a file named \"Avy_AvocU2proj.ipynb\", since she normally just goes by Avy, and, when pressed, reports Avocado as her last name. The \" _ \" after \"Avy\" serves as the fourth \"letter\" in her first name.\n",
        "\n",
        "Ex2.\n",
        "\n",
        "Army Armadillo will submit a file named \"ArmyArmaU2proj.ipynb\""
      ],
      "metadata": {
        "id": "GkD7Y6hFZdzW"
      }
    },
    {
      "cell_type": "markdown",
      "source": [
        "# Unit 2 Project: Flipping Metaphorical Coins\n",
        "\n",
        "**Task**:\n",
        "\n",
        "Two parts:\n",
        "\n",
        "1. Propose a data set that's compatible with a pymc betabinomial model. I must approve your submission before you move on to part 2.\n",
        "\n",
        "2. Create, analyze, and present a betabinomial model using pymc within the colab environment, on a data set of your choice."
      ],
      "metadata": {
        "id": "hIWO5hU4NeAg"
      }
    },
    {
      "cell_type": "markdown",
      "source": [
        "Guidlines:\n",
        "\n",
        "- You are allowed to copy and paste any code from the notes, including my answer key (AK), without any reference or citations. Same goes for the course textbook, BAP3.\n",
        "\n",
        "- This is an individual project. It is fine if you model the same process as a peer, but your raw data **must** be substantially different. \"Substantially different\" means that I, your instructor, arbitrarily think your data sets are different enough.\n",
        "\n",
        "- Do not look at other student's code/jupyter notebooks. Copying, or copying and pasting, other students code will result in a failing grade. Also, I will tell all the other teachers I know that you cheated.\n",
        "\n",
        "- If you want to know what another student did, ask them--any verbal communication about a project is allowed and encouraged. If you want to see a graphic they made, ask them to sketch a picture of it for you by hand.\n",
        "\n",
        "- Any handwritten communication is also allowed and encouraged, so long as all parties are in the same physical location together. Example: you may sketch out a piece of code while verbally explaining to someone what you did. Do NOT: hand write the code for your entire project, take a picture, and send it to everyone in the course.\n",
        "\n",
        "- If you use someone's code from outside this course (like from the internet, an AI, or your parent), you must ask me if it is ok, and you must cite them in your work. I don't care all they did was to click your space bar one more time: you tell me, and you cite their contribution. You don't need to tell me about or cite verbal or handwritten communication though.\n",
        "\n",
        "- You may use a more complicated model--like something from further along in the course--IF I give you permission.\n",
        "\n",
        "- If you are unsure whether or not something is ok or allowed: ASK BEFORE YOU DO IT.\n",
        "\n",
        "Faliure to adhere to these guidlines will result in a failing grade."
      ],
      "metadata": {
        "id": "iG3eGgAnPT6b"
      }
    },
    {
      "cell_type": "markdown",
      "source": [
        "Tips:\n",
        "\n",
        "- Anything that can be looked at as either being yes or no, success or faliure, can be modeled with the betabinomial model. Examples: BAP3 introduces the betabinomial model with coin flipping, and Richard McElreath starts with guessing the proportion of surface water covering a planet in his book Statistical Rethinking.\n",
        "\n",
        "- Try to pick something that you care about, have knowledge of, experience with, or that you find interesting/cool.\n",
        "\n",
        "-  Use your best idea now; you could use the same context the whole course and learn everything you need to know. Its more than ok to use the same context, or even some of the same data, from unit to unit.\n",
        "\n",
        "- Comment heavily, and explain your steps and thought process with text blocks. This is not only requried, it'll also help you understand what you're doing and what you want to do.\n",
        "\n",
        "- Want an example? The Unit2NotesAK *is* your example! You are expected to be somewhere between a half and a quarter as detailed--but more is always welcome."
      ],
      "metadata": {
        "id": "YJPcaPErSNjc"
      }
    },
    {
      "cell_type": "markdown",
      "source": [
        "# Background\n",
        "The New York Times Best Sellers list is a widely regarded list of best selling books, published weekly since 1931. Some of the books named by list are standalone books, with no other books in a series or companion series, and others are part of a published series. This study attempts to uncover the true proportion of fictional books named by the New York Times Best Sellers list that are part of a series versus standalone novels.\n",
        "\n",
        "\n",
        "\n",
        "\n",
        "\n",
        "\n",
        "\n",
        "\n",
        "\n",
        "\n",
        "\n",
        "\n",
        "\n",
        "\n",
        "\n",
        "\n",
        "\n",
        "\n",
        "\n",
        "\n",
        "\n",
        "\n",
        "\n",
        "\n",
        "\n"
      ],
      "metadata": {
        "id": "GK4H0IhrroZC"
      }
    },
    {
      "cell_type": "markdown",
      "source": [
        "# Prior\n",
        "My assumption is that 20% of the number of fictional books named in the NYT Best Sellers list will be part of a series and 80% will be standalone novels."
      ],
      "metadata": {
        "id": "U4-WYSgMj7yE"
      }
    },
    {
      "cell_type": "code",
      "source": [
        "!pip install preliz\n",
        "import preliz as pz\n",
        "\n",
        "pz.Beta(alpha=20,beta=80).plot_pdf()"
      ],
      "metadata": {
        "colab": {
          "base_uri": "https://localhost:8080/",
          "height": 725
        },
        "id": "p0RW0sPlwit-",
        "outputId": "c7a3a145-26f6-4e57-c694-2215e36be812"
      },
      "execution_count": 5,
      "outputs": [
        {
          "output_type": "stream",
          "name": "stdout",
          "text": [
            "Requirement already satisfied: preliz in /usr/local/lib/python3.12/dist-packages (0.21.0)\n",
            "Requirement already satisfied: arviz_stats>=0.6.0 in /usr/local/lib/python3.12/dist-packages (from preliz) (0.6.0)\n",
            "Requirement already satisfied: matplotlib>=3.8 in /usr/local/lib/python3.12/dist-packages (from preliz) (3.10.0)\n",
            "Requirement already satisfied: numba>=0.59 in /usr/local/lib/python3.12/dist-packages (from preliz) (0.60.0)\n",
            "Requirement already satisfied: numpy>=2.0 in /usr/local/lib/python3.12/dist-packages (from preliz) (2.0.2)\n",
            "Requirement already satisfied: scipy>=1.12 in /usr/local/lib/python3.12/dist-packages (from preliz) (1.16.1)\n",
            "Requirement already satisfied: contourpy>=1.0.1 in /usr/local/lib/python3.12/dist-packages (from matplotlib>=3.8->preliz) (1.3.3)\n",
            "Requirement already satisfied: cycler>=0.10 in /usr/local/lib/python3.12/dist-packages (from matplotlib>=3.8->preliz) (0.12.1)\n",
            "Requirement already satisfied: fonttools>=4.22.0 in /usr/local/lib/python3.12/dist-packages (from matplotlib>=3.8->preliz) (4.59.2)\n",
            "Requirement already satisfied: kiwisolver>=1.3.1 in /usr/local/lib/python3.12/dist-packages (from matplotlib>=3.8->preliz) (1.4.9)\n",
            "Requirement already satisfied: packaging>=20.0 in /usr/local/lib/python3.12/dist-packages (from matplotlib>=3.8->preliz) (25.0)\n",
            "Requirement already satisfied: pillow>=8 in /usr/local/lib/python3.12/dist-packages (from matplotlib>=3.8->preliz) (11.3.0)\n",
            "Requirement already satisfied: pyparsing>=2.3.1 in /usr/local/lib/python3.12/dist-packages (from matplotlib>=3.8->preliz) (3.2.3)\n",
            "Requirement already satisfied: python-dateutil>=2.7 in /usr/local/lib/python3.12/dist-packages (from matplotlib>=3.8->preliz) (2.9.0.post0)\n",
            "Requirement already satisfied: llvmlite<0.44,>=0.43.0dev0 in /usr/local/lib/python3.12/dist-packages (from numba>=0.59->preliz) (0.43.0)\n",
            "Requirement already satisfied: six>=1.5 in /usr/local/lib/python3.12/dist-packages (from python-dateutil>=2.7->matplotlib>=3.8->preliz) (1.17.0)\n"
          ]
        },
        {
          "output_type": "execute_result",
          "data": {
            "text/plain": [
              "<Axes: >"
            ]
          },
          "metadata": {},
          "execution_count": 5
        },
        {
          "output_type": "display_data",
          "data": {
            "text/plain": [
              "<Figure size 640x480 with 1 Axes>"
            ],
            "image/png": "[encoded data removed]"
          },
          "metadata": {}
        }
      ]
    },
    {
      "cell_type": "markdown",
      "source": [
        "# Data\n",
        "I looked at the list of New York Times Best Sellers books via Wikipedia in 6 randomly chosen years: 1940, 1950, 1978, 1984, 1998, and 2024. The titles, along with their status as series or standalone novels, are compiled in the spreadsheet below:\n",
        "\n",
        "https://docs.google.com/spreadsheets/d/1jKwA2QZv5XGG2_N8KSMISP32ta_ghkH5c6-vT1K7BVk/edit?gid=0#gid=0\n",
        "\n",
        "With 77 total novels, 38 are part of a series and 39 re standalone."
      ],
      "metadata": {
        "id": "9g5gmxrAmVxE"
      }
    },
    {
      "cell_type": "code",
      "source": [
        "!pip install arviz\n",
        "!pip install pymc\n",
        "import numpy as np\n",
        "import arviz as az\n",
        "import pymc as pm\n",
        "\n",
        "\n"
      ],
      "metadata": {
        "id": "nuiF1sj_sKRX",
        "colab": {
          "base_uri": "https://localhost:8080/"
        },
        "outputId": "def3b4d0-9c50-4e89-eab6-b04a6ff755af"
      },
      "execution_count": 6,
      "outputs": [
        {
          "output_type": "stream",
          "name": "stdout",
          "text": [
            "Requirement already satisfied: arviz in /usr/local/lib/python3.12/dist-packages (0.22.0)\n",
            "Requirement already satisfied: setuptools>=60.0.0 in /usr/local/lib/python3.12/dist-packages (from arviz) (75.2.0)\n",
            "Requirement already satisfied: matplotlib>=3.8 in /usr/local/lib/python3.12/dist-packages (from arviz) (3.10.0)\n",
            "Requirement already satisfied: numpy>=1.26.0 in /usr/local/lib/python3.12/dist-packages (from arviz) (2.0.2)\n",
            "Requirement already satisfied: scipy>=1.11.0 in /usr/local/lib/python3.12/dist-packages (from arviz) (1.16.1)\n",
            "Requirement already satisfied: packaging in /usr/local/lib/python3.12/dist-packages (from arviz) (25.0)\n",
            "Requirement already satisfied: pandas>=2.1.0 in /usr/local/lib/python3.12/dist-packages (from arviz) (2.2.2)\n",
            "Requirement already satisfied: xarray>=2023.7.0 in /usr/local/lib/python3.12/dist-packages (from arviz) (2025.9.0)\n",
            "Requirement already satisfied: h5netcdf>=1.0.2 in /usr/local/lib/python3.12/dist-packages (from arviz) (1.6.4)\n",
            "Requirement already satisfied: typing-extensions>=4.1.0 in /usr/local/lib/python3.12/dist-packages (from arviz) (4.15.0)\n",
            "Requirement already satisfied: xarray-einstats>=0.3 in /usr/local/lib/python3.12/dist-packages (from arviz) (0.9.1)\n",
            "Requirement already satisfied: h5py in /usr/local/lib/python3.12/dist-packages (from h5netcdf>=1.0.2->arviz) (3.14.0)\n",
            "Requirement already satisfied: contourpy>=1.0.1 in /usr/local/lib/python3.12/dist-packages (from matplotlib>=3.8->arviz) (1.3.3)\n",
            "Requirement already satisfied: cycler>=0.10 in /usr/local/lib/python3.12/dist-packages (from matplotlib>=3.8->arviz) (0.12.1)\n",
            "Requirement already satisfied: fonttools>=4.22.0 in /usr/local/lib/python3.12/dist-packages (from matplotlib>=3.8->arviz) (4.59.2)\n",
            "Requirement already satisfied: kiwisolver>=1.3.1 in /usr/local/lib/python3.12/dist-packages (from matplotlib>=3.8->arviz) (1.4.9)\n",
            "Requirement already satisfied: pillow>=8 in /usr/local/lib/python3.12/dist-packages (from matplotlib>=3.8->arviz) (11.3.0)\n",
            "Requirement already satisfied: pyparsing>=2.3.1 in /usr/local/lib/python3.12/dist-packages (from matplotlib>=3.8->arviz) (3.2.3)\n",
            "Requirement already satisfied: python-dateutil>=2.7 in /usr/local/lib/python3.12/dist-packages (from matplotlib>=3.8->arviz) (2.9.0.post0)\n",
            "Requirement already satisfied: pytz>=2020.1 in /usr/local/lib/python3.12/dist-packages (from pandas>=2.1.0->arviz) (2025.2)\n",
            "Requirement already satisfied: tzdata>=2022.7 in /usr/local/lib/python3.12/dist-packages (from pandas>=2.1.0->arviz) (2025.2)\n",
            "Requirement already satisfied: six>=1.5 in /usr/local/lib/python3.12/dist-packages (from python-dateutil>=2.7->matplotlib>=3.8->arviz) (1.17.0)\n",
            "Requirement already satisfied: pymc in /usr/local/lib/python3.12/dist-packages (5.25.1)\n",
            "Requirement already satisfied: arviz>=0.13.0 in /usr/local/lib/python3.12/dist-packages (from pymc) (0.22.0)\n",
            "Requirement already satisfied: cachetools>=4.2.1 in /usr/local/lib/python3.12/dist-packages (from pymc) (5.5.2)\n",
            "Requirement already satisfied: cloudpickle in /usr/local/lib/python3.12/dist-packages (from pymc) (3.1.1)\n",
            "Requirement already satisfied: numpy>=1.25.0 in /usr/local/lib/python3.12/dist-packages (from pymc) (2.0.2)\n",
            "Requirement already satisfied: pandas>=0.24.0 in /usr/local/lib/python3.12/dist-packages (from pymc) (2.2.2)\n",
            "Requirement already satisfied: pytensor<2.32,>=2.31.7 in /usr/local/lib/python3.12/dist-packages (from pymc) (2.31.7)\n",
            "Requirement already satisfied: rich>=13.7.1 in /usr/local/lib/python3.12/dist-packages (from pymc) (13.9.4)\n",
            "Requirement already satisfied: scipy>=1.4.1 in /usr/local/lib/python3.12/dist-packages (from pymc) (1.16.1)\n",
            "Requirement already satisfied: threadpoolctl<4.0.0,>=3.1.0 in /usr/local/lib/python3.12/dist-packages (from pymc) (3.6.0)\n",
            "Requirement already satisfied: typing-extensions>=3.7.4 in /usr/local/lib/python3.12/dist-packages (from pymc) (4.15.0)\n",
            "Requirement already satisfied: setuptools>=60.0.0 in /usr/local/lib/python3.12/dist-packages (from arviz>=0.13.0->pymc) (75.2.0)\n",
            "Requirement already satisfied: matplotlib>=3.8 in /usr/local/lib/python3.12/dist-packages (from arviz>=0.13.0->pymc) (3.10.0)\n",
            "Requirement already satisfied: packaging in /usr/local/lib/python3.12/dist-packages (from arviz>=0.13.0->pymc) (25.0)\n",
            "Requirement already satisfied: xarray>=2023.7.0 in /usr/local/lib/python3.12/dist-packages (from arviz>=0.13.0->pymc) (2025.9.0)\n",
            "Requirement already satisfied: h5netcdf>=1.0.2 in /usr/local/lib/python3.12/dist-packages (from arviz>=0.13.0->pymc) (1.6.4)\n",
            "Requirement already satisfied: xarray-einstats>=0.3 in /usr/local/lib/python3.12/dist-packages (from arviz>=0.13.0->pymc) (0.9.1)\n",
            "Requirement already satisfied: python-dateutil>=2.8.2 in /usr/local/lib/python3.12/dist-packages (from pandas>=0.24.0->pymc) (2.9.0.post0)\n",
            "Requirement already satisfied: pytz>=2020.1 in /usr/local/lib/python3.12/dist-packages (from pandas>=0.24.0->pymc) (2025.2)\n",
            "Requirement already satisfied: tzdata>=2022.7 in /usr/local/lib/python3.12/dist-packages (from pandas>=0.24.0->pymc) (2025.2)\n",
            "Requirement already satisfied: filelock>=3.15 in /usr/local/lib/python3.12/dist-packages (from pytensor<2.32,>=2.31.7->pymc) (3.19.1)\n",
            "Requirement already satisfied: etuples in /usr/local/lib/python3.12/dist-packages (from pytensor<2.32,>=2.31.7->pymc) (0.3.10)\n",
            "Requirement already satisfied: logical-unification in /usr/local/lib/python3.12/dist-packages (from pytensor<2.32,>=2.31.7->pymc) (0.4.6)\n",
            "Requirement already satisfied: miniKanren in /usr/local/lib/python3.12/dist-packages (from pytensor<2.32,>=2.31.7->pymc) (1.0.5)\n",
            "Requirement already satisfied: cons in /usr/local/lib/python3.12/dist-packages (from pytensor<2.32,>=2.31.7->pymc) (0.4.7)\n",
            "Requirement already satisfied: markdown-it-py>=2.2.0 in /usr/local/lib/python3.12/dist-packages (from rich>=13.7.1->pymc) (4.0.0)\n",
            "Requirement already satisfied: pygments<3.0.0,>=2.13.0 in /usr/local/lib/python3.12/dist-packages (from rich>=13.7.1->pymc) (2.19.2)\n",
            "Requirement already satisfied: h5py in /usr/local/lib/python3.12/dist-packages (from h5netcdf>=1.0.2->arviz>=0.13.0->pymc) (3.14.0)\n",
            "Requirement already satisfied: mdurl~=0.1 in /usr/local/lib/python3.12/dist-packages (from markdown-it-py>=2.2.0->rich>=13.7.1->pymc) (0.1.2)\n",
            "Requirement already satisfied: contourpy>=1.0.1 in /usr/local/lib/python3.12/dist-packages (from matplotlib>=3.8->arviz>=0.13.0->pymc) (1.3.3)\n",
            "Requirement already satisfied: cycler>=0.10 in /usr/local/lib/python3.12/dist-packages (from matplotlib>=3.8->arviz>=0.13.0->pymc) (0.12.1)\n",
            "Requirement already satisfied: fonttools>=4.22.0 in /usr/local/lib/python3.12/dist-packages (from matplotlib>=3.8->arviz>=0.13.0->pymc) (4.59.2)\n",
            "Requirement already satisfied: kiwisolver>=1.3.1 in /usr/local/lib/python3.12/dist-packages (from matplotlib>=3.8->arviz>=0.13.0->pymc) (1.4.9)\n",
            "Requirement already satisfied: pillow>=8 in /usr/local/lib/python3.12/dist-packages (from matplotlib>=3.8->arviz>=0.13.0->pymc) (11.3.0)\n",
            "Requirement already satisfied: pyparsing>=2.3.1 in /usr/local/lib/python3.12/dist-packages (from matplotlib>=3.8->arviz>=0.13.0->pymc) (3.2.3)\n",
            "Requirement already satisfied: six>=1.5 in /usr/local/lib/python3.12/dist-packages (from python-dateutil>=2.8.2->pandas>=0.24.0->pymc) (1.17.0)\n",
            "Requirement already satisfied: toolz in /usr/local/lib/python3.12/dist-packages (from logical-unification->pytensor<2.32,>=2.31.7->pymc) (0.12.1)\n",
            "Requirement already satisfied: multipledispatch in /usr/local/lib/python3.12/dist-packages (from logical-unification->pytensor<2.32,>=2.31.7->pymc) (1.0.0)\n"
          ]
        }
      ]
    },
    {
      "cell_type": "code",
      "source": [
        "#create\n",
        "series = np.repeat(1,38)\n",
        "standalone = np.repeat (0,39)\n",
        "NYTbestseller = np.concatenate((series,standalone))\n",
        "NYTbestseller\n"
      ],
      "metadata": {
        "colab": {
          "base_uri": "https://localhost:8080/"
        },
        "id": "U_p7knBkL__N",
        "outputId": "0fdfd7aa-bc9c-4b96-84bf-014745ae78a1"
      },
      "execution_count": 7,
      "outputs": [
        {
          "output_type": "execute_result",
          "data": {
            "text/plain": [
              "array([1, 1, 1, 1, 1, 1, 1, 1, 1, 1, 1, 1, 1, 1, 1, 1, 1, 1, 1, 1, 1, 1,\n",
              "       1, 1, 1, 1, 1, 1, 1, 1, 1, 1, 1, 1, 1, 1, 1, 1, 0, 0, 0, 0, 0, 0,\n",
              "       0, 0, 0, 0, 0, 0, 0, 0, 0, 0, 0, 0, 0, 0, 0, 0, 0, 0, 0, 0, 0, 0,\n",
              "       0, 0, 0, 0, 0, 0, 0, 0, 0, 0, 0])"
            ]
          },
          "metadata": {},
          "execution_count": 7
        }
      ]
    },
    {
      "cell_type": "code",
      "source": [
        "with pm.Model() as NYTbestseller_guess:\n",
        "  #prior\n",
        "  θ = pm.Beta('θ' , alpha = 20. , beta = 80.)\n",
        "\n",
        "  #likelihood\n",
        "  y = pm.Bernoulli('y', p = θ, observed = NYTbestseller)\n",
        "\n",
        " #get sample\n",
        "  idata_NYTbestseller = pm.sample()\n"
      ],
      "metadata": {
        "id": "hOjj-biNebbM"
      },
      "execution_count": null,
      "outputs": []
    },
    {
      "cell_type": "code",
      "source": [
        "   #graph\n",
        "  az.plot_posterior(idata_NYTbestseller)"
      ],
      "metadata": {
        "colab": {
          "base_uri": "https://localhost:8080/",
          "height": 475
        },
        "id": "PjdmzmOqxuOz",
        "outputId": "45c80b8e-ba85-4b27-c459-2e7ac313c04e"
      },
      "execution_count": 9,
      "outputs": [
        {
          "output_type": "execute_result",
          "data": {
            "text/plain": [
              "<Axes: title={'center': 'θ'}>"
            ]
          },
          "metadata": {},
          "execution_count": 9
        },
        {
          "output_type": "display_data",
          "data": {
            "text/plain": [
              "<Figure size 640x480 with 1 Axes>"
            ],
            "image/png": "[encoded data removed]"
          },
          "metadata": {}
        }
      ]
    },
    {
      "cell_type": "markdown",
      "source": [
        "# Conclusion\n",
        "\n",
        "The posterior graph shows that there's a 94% chance of the true proportion of books in a series is between .26 and .39. As my prior, .2, is outside of this range, my assumption is likely incorrect."
      ],
      "metadata": {
        "id": "y9p0yaNejVJM"
      }
    }
  ]
}