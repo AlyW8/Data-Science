{
  "nbformat": 4,
  "nbformat_minor": 0,
  "metadata": {
    "colab": {
      "provenance": [],
      "include_colab_link": true
    },
    "kernelspec": {
      "name": "python3",
      "display_name": "Python 3"
    },
    "language_info": {
      "name": "python"
    }
  },
  "cells": [
    {
      "cell_type": "markdown",
      "metadata": {
        "id": "view-in-github",
        "colab_type": "text"
      },
      "source": [
        "<a href=\"https://colab.research.google.com/github/AlyW8/Data-Science-Exercises/blob/main/Unit1ExercisesSF.ipynb\" target=\"_parent\"><img src=\"https://colab.research.google.com/assets/colab-badge.svg\" alt=\"Open In Colab\"/></a>"
      ]
    },
    {
      "cell_type": "markdown",
      "source": [
        "# Unit 1 Exercises: Data Structure Concepts\n",
        "\n",
        "The following questions will ask you to describe the various objects we learned about in the first Unit.\n",
        "\n",
        "I'm not giving you coding exercises, because we will learn all the coding technqiues we need as we move through the course.\n",
        "\n",
        "What I do need from you right now, is a conceptual understanding how how data is stored in our computer, when we use python."
      ],
      "metadata": {
        "id": "65OCktLjbZmA"
      }
    },
    {
      "cell_type": "markdown",
      "source": [
        "**Task1**:\n",
        "\n",
        "Describe the similarities and differences between an int and a float in python."
      ],
      "metadata": {
        "id": "bt0bWe1evLtv"
      }
    },
    {
      "cell_type": "markdown",
      "source": [
        "**Answer1**:\n",
        "\n",
        "- Both are numbers\n",
        "- floats have decimals, ints don't"
      ],
      "metadata": {
        "id": "FW3KHt4yvt90"
      }
    },
    {
      "cell_type": "markdown",
      "source": [
        "**Task2**:\n",
        "\n",
        "Describe the similarities and differences between: strings, lists, and dicts."
      ],
      "metadata": {
        "id": "mJ_i6he5wwgr"
      }
    },
    {
      "cell_type": "markdown",
      "source": [
        "**Answer2**:\n",
        "\n",
        "Strings: 'dog'\n",
        "- immutable, iterable, holds only characters\n",
        "- splice by adding brackets at the end: 'dog'[1:3]\n",
        "\n",
        "Lists: my_list = ['dog',5,x,8.52144]\n",
        "- mutable, iterable, hold all types of data\n",
        "- splice with brackets: my_list[1:3]\n",
        "- add item: my_list.append(5)\n",
        "\n",
        "Dicts: my_dict = {'one':4/2, 2:my_list, '3':b_list[0]}\n",
        "- mutable, not entirely iterable, hold all types of data\n",
        "- use items to access values: my_dict[2]\n",
        "- my_dict.keys() -- lists keys\n",
        "- my_dict.values() -- lists values\n",
        "- know when floats = ints\n"
      ],
      "metadata": {
        "id": "iFu5BKyWw98T"
      }
    },
    {
      "cell_type": "markdown",
      "source": [
        "**Task3**:\n",
        "\n",
        "What is a numpy array? Why would we ever use one over a list or dict?"
      ],
      "metadata": {
        "id": "56v05s45yBHk"
      }
    },
    {
      "cell_type": "markdown",
      "source": [
        "**Answer3**:\n",
        "\n",
        "first_array = np.array([x,'dog', 'montro'])\n",
        "\n",
        "A numpy array is a way of storing data, similar to a list but is immutable and only hold one kind of data at a time. It'll convert every item to one type, which makes calculations faster. Arrays also support element wise multiplication, addition, subtraction, and division by constants, along with matrix multiplication.\n",
        "\n",
        "To make an array:\n",
        "- np.ones((50,50)) -- 50x50 grid of 1s\n",
        "- np.zeros((2)) -- 1x2 grid of 0s\n",
        "- np.linspace(-10,10,21) -- gives 21 elements between -10 and 10, inclusive, evenly spaced out\n",
        "- np.arange(10) -- arranges all numbers from 0 to 10\n",
        "- np.repeat(4,15) -- makes 15 4s\n",
        "\n",
        "Splice the same way lists are spliced.\n",
        "\n",
        "Operations:\n",
        "- x_array.max() -- gives max\n",
        "- x.array.mean() -- gives mean"
      ],
      "metadata": {
        "id": "eikgxyNzyLTY"
      }
    },
    {
      "cell_type": "markdown",
      "source": [
        "**Task4**:\n",
        "\n",
        "What is a pandas dataframe? Why would we ever want to use one over a numpy array?"
      ],
      "metadata": {
        "id": "RLaEQ5irywBl"
      }
    },
    {
      "cell_type": "markdown",
      "source": [
        "**Answer4**:\n",
        "\n",
        "x_df = pd.DataFrame(x_array)\n",
        "\n",
        "Pandas frame data in columns and rows (indicies) to make them easier to look at. They also have a lot of operations.\n",
        "\n",
        "Operations:\n",
        "- x_df.max()\n",
        "- x_df.sum()\n",
        "\n",
        "Slicing Dataframes\n",
        "- x_df.columns -- lists column names\n",
        "- x_df.index -- lists indicies names\n",
        "- x_df.shape -- lists shape of table\n",
        "- x_df.ColumnName OR x_df['ColumnName'] OR x_df[['ColumnName']] -- Gives all items in ColumnName, double brackets returns a dataframe (req when we hv funky characters in ColumnName)\n",
        "- x_df[[ColumnName1,ColumnName2']].loc[[0,12,63]] -- grabs rows 0, 12, adn 63 under ColumnName1 and ColumnName2\n",
        "\n",
        "Query\n",
        "- x_df.query('C1>=C2 and C4<100') -- finds all rows with C1 values greater than or equal to C2 values and C4 values greater than 100\n",
        "- x_df.query('C1>=C2 and C4<100').drop(columns = ['C5',C7',C8']) -- doesn't include columns 5,7,8\n"
      ],
      "metadata": {
        "id": "5IkNlzYpy-HP"
      }
    },
    {
      "cell_type": "markdown",
      "source": [
        "**Task5**:\n",
        "\n",
        "What are for loops, and why would we ever use them?"
      ],
      "metadata": {
        "id": "khRn2d7qz1Y2"
      }
    },
    {
      "cell_type": "markdown",
      "source": [
        "**Answer5**:\n",
        "\n",
        "for loops are ways of making data do what we want if there's no preexisting operation for the function.\n",
        "\n",
        "for index, name in enumerate(basketball.Player):\n",
        "- enumerate breaks up basketball.Player into index, name (0,name1; 1,Name2)"
      ],
      "metadata": {
        "id": "NAdVfRZB1d9J"
      }
    },
    {
      "cell_type": "markdown",
      "source": [
        "## Bonus: Faster Data Wrangling\n",
        "\n",
        "No, this is not extra credit. There will never be extra credit in this class. Only do these tasks if they sound fun, or to procrastinate on your other coursework."
      ],
      "metadata": {
        "id": "LQiruyOXZ5gx"
      }
    },
    {
      "cell_type": "markdown",
      "source": [
        "I mentioned in the notes that [polars](https://docs.pola.rs/user-guide/migration/pandas/#filtering) is a library that is just plain faster than pandas. I've never actually played with it myself, so I'm shifting that responsibility over to you."
      ],
      "metadata": {
        "id": "cgbgyZpiaVnE"
      }
    },
    {
      "cell_type": "markdown",
      "source": [
        "**Task6**\n",
        "\n",
        "Redo Task11 from the notes, but in polars."
      ],
      "metadata": {
        "id": "4EzSdSs7cUz0"
      }
    },
    {
      "cell_type": "markdown",
      "source": [
        "**Task7**\n",
        "\n",
        "Measure how much faster polars is at the Task11 operation than pandas."
      ],
      "metadata": {
        "id": "sRyQs8QLcfnM"
      }
    },
    {
      "cell_type": "markdown",
      "source": [
        "**Task8**:\n",
        "\n",
        "Explain, in detail, exactly why polars is faster than pandas. Is anything lost by making these changes? Is polars strictly better than pandas? If so, why would pandas exist in the first place?\n",
        "\n",
        "Remember, this is supposed to be fun. If it's not, stop and doing something else."
      ],
      "metadata": {
        "id": "zLdCWzvAdYGA"
      }
    }
  ]
}