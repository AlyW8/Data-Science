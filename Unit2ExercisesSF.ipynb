{
  "nbformat": 4,
  "nbformat_minor": 0,
  "metadata": {
    "colab": {
      "provenance": [],
      "include_colab_link": true
    },
    "kernelspec": {
      "name": "python3",
      "display_name": "Python 3"
    },
    "language_info": {
      "name": "python"
    }
  },
  "cells": [
    {
      "cell_type": "markdown",
      "metadata": {
        "id": "view-in-github",
        "colab_type": "text"
      },
      "source": [
        "<a href=\"https://colab.research.google.com/github/AlyW8/Data-Science-Exercises/blob/main/Unit2ExercisesSF.ipynb\" target=\"_parent\"><img src=\"https://colab.research.google.com/assets/colab-badge.svg\" alt=\"Open In Colab\"/></a>"
      ]
    },
    {
      "cell_type": "markdown",
      "source": [
        "#Unit 2 Exercises: Bayesian Building Blocks\n",
        "\n",
        "This first set of exercises focuses on conceptual understanding of the three parts of bayesian statistics we'll manipulate the most: the prior, likelihood, and posterior.\n",
        "\n",
        "These vocabulary words will help us categorize and explain all statistical models, even models that don't fit inside the standard bayesian framework."
      ],
      "metadata": {
        "id": "0GANUQSIhV2t"
      }
    },
    {
      "cell_type": "markdown",
      "source": [
        "**Task1**:\n",
        "\n",
        "Why do we make guesses? In other words, what is the benefit of trying to predict something we are uncertain about?"
      ],
      "metadata": {
        "id": "4HnMLojUPtOR"
      }
    },
    {
      "cell_type": "markdown",
      "source": [
        "We make guesses to try and make plans when facing an uncertain future"
      ],
      "metadata": {
        "id": "mDaA1AeLU5dU"
      }
    },
    {
      "cell_type": "markdown",
      "source": [
        "**Task2**:\n",
        "\n",
        "Is is it possible to make a guess/prediction without making an assumption?\n",
        "\n",
        "If yes, then give an example of such a guess, and state whenever that guess would be useful or not.\n",
        "\n",
        "If no, then briefly justify why we need assumptions to make predictions."
      ],
      "metadata": {
        "id": "fMU4F4ZGQqb9"
      }
    },
    {
      "cell_type": "markdown",
      "source": [
        "No, we have to at least assume that the future will follow the pattern of our past data to use the past data to predict the future."
      ],
      "metadata": {
        "id": "JuBQVSQ0U-cD"
      }
    },
    {
      "cell_type": "markdown",
      "source": [
        "**Task3**:\n",
        "\n",
        "Should we use all the available information we have to make a guess/prediction? Justify your answer."
      ],
      "metadata": {
        "id": "8iIogaaJQEfl"
      }
    },
    {
      "cell_type": "markdown",
      "source": [
        "We should use all relevant, unbiased data to make a prediction. That way, we aren't biasing our data by selecting specific data points or contaminate our data set with biased data."
      ],
      "metadata": {
        "id": "v8zljy-5QXSd"
      }
    },
    {
      "cell_type": "markdown",
      "source": [
        "**Task4**:\n",
        "\n",
        "What is a prior? How are priors related to\n",
        "- context?\n",
        "- assumptions?\n",
        "- predictions?"
      ],
      "metadata": {
        "id": "TYwtd8lPRFbj"
      }
    },
    {
      "cell_type": "markdown",
      "source": [
        "A prior distribution is a distribution made based off of a piece of data (called the prior) mapping out what you think the probability distribution might look like.\n",
        "We make assumptions based on the context when we make a prior distribution. We can assume that the data is exactly indicative of the true probability and use a beta distribution, or assume that the data is entirely unrelated to the true probability and use a uniform distribution, assuming that every potential theta is equally likely to be true.\n",
        "The prior distribution can be used to predict what theta, the true probability, might be."
      ],
      "metadata": {
        "id": "d6vRRh3wVE5v"
      }
    },
    {
      "cell_type": "markdown",
      "source": [
        "**Task5**:\n",
        "\n",
        "What is a likelihood? How are likelihoods related to:\n",
        "\n",
        "- context?\n",
        "- assumptions?\n",
        "- predictions?"
      ],
      "metadata": {
        "id": "v6NnzoV_RWo6"
      }
    },
    {
      "cell_type": "markdown",
      "source": [
        "A likelihood is the probability of achieving a specific data set given the theta (the truth). It can be used to determine if the theta is reasonably likely based on the probability it would give the observed data set.\n",
        "We have to assume that the observed data set is under the same conditions as the data that formed the predicted theta, or that the true probability is the same for both of them. We use the likelihood to determine if predictions of theta are reasonable.\n",
        "We use the prior and the likelihood to generate the posterior."
      ],
      "metadata": {
        "id": "VK5s3vZpVGLc"
      }
    },
    {
      "cell_type": "markdown",
      "source": [
        "**Task6**:\n",
        "\n",
        "What is a posterior? How are posteriors related to:\n",
        "\n",
        "- context?\n",
        "- assumptions?\n",
        "- predictions?"
      ],
      "metadata": {
        "id": "eYSYtG_2Rowf"
      }
    },
    {
      "cell_type": "markdown",
      "source": [
        "The posterior is the probability of the true probability being true given the observed data set. It's the probability of the likelihood and prior happening at once, or the probability that our proposed theta is right. It represents variation in gathering data sets (and a lot more)??"
      ],
      "metadata": {
        "id": "T04x1VteVHH1"
      }
    },
    {
      "cell_type": "markdown",
      "source": [
        "**Task7**:\n",
        "\n",
        "Why would anyone want to define a prior and a likelihood in order to make a prediction? In other words, what's the point of using a likelihood and a prior to form a posterior?"
      ],
      "metadata": {
        "id": "CMAm4LqBXYxG"
      }
    },
    {
      "cell_type": "markdown",
      "source": [
        "We can know how likely it is that our estimation of the truth that we got from the prior is the true theta, or close to it. We have to know both the prior and the likelihood in order to calculate the posterior."
      ],
      "metadata": {
        "id": "rag62h9DVIDN"
      }
    },
    {
      "cell_type": "markdown",
      "source": [
        "## Bayes' Rule Math\n",
        "\n",
        "\n",
        "---\n",
        "\n",
        "\n",
        "\n",
        "The following exercises will be graded for completion, with no accuracy component. That said, correct answers below will replace mistakes in tasks 1-7.\n",
        "\n"
      ],
      "metadata": {
        "id": "BNrO2k34SGoF"
      }
    },
    {
      "cell_type": "markdown",
      "source": [
        "### Mathematical Framing\n",
        "\n",
        "In this series of exercises, we'll calculate a probability using the full version of Bayes' Rule.\n",
        "\n",
        "The version seen in the notes, $p(θ|y) ∝ p(y|θ)p(θ)$, ignores the normalizing constant found in the full equation: $p(θ|y) = \\frac{p(y|θ)p(θ)}{p(y)}$.\n",
        "\n",
        "As stated in the notes, in practical applications we don't need to worry too much about $p(y)$, AKA the marginal likelihood, AKA the prior predictive density, AKA the normalizing constant. And when we do, we'll approximate like we do everything else.\n",
        "\n",
        "The following exercises are closer to theoretical abstraction, rather than practicality.\n",
        "\n",
        "So why do them?\n",
        "\n",
        "These exercises will (hopefully) help you gain additional intuition for probability, and how it behaves.\n",
        "\n",
        "As you work through the exercises, consider $p(y)$, the  prior predictive density, and why using it to divide $p(y|θ)p(θ)$ gurantees that we get a probability.\n",
        "\n",
        "Additonaly, wonder about:\n",
        "- the likelihood $p(y|θ)$\n",
        "- the prior $p(θ)$,\n",
        "- why multiplying the likelihood and piror *almost* gives us the posterior $p(θ|y)$."
      ],
      "metadata": {
        "id": "w7KMRJa_TmdF"
      }
    },
    {
      "cell_type": "markdown",
      "source": [
        "###Problem Setting\n",
        "\n",
        "Imagine we have a bag of red and white marbles, identical in every other way. Each individual marble is either entirely white or entirely red.\n",
        "\n",
        "Let's assume there are 4 total marbles, that we can't see inside the bag, and when we grab a ball from the bag, we replace it and shake the bag to scramble the balls.\n",
        "\n",
        "Additionally:\n",
        "\n",
        "- we draw three balls in this order: red-white-red. Call these the data, $y$. Remember, we replaced the ball and shook the bag between each draw.\n",
        "- we are interested in finding the true proportion of red balls in the bag, called $θ$"
      ],
      "metadata": {
        "id": "ab7E9RIuj2OX"
      }
    },
    {
      "cell_type": "markdown",
      "source": [
        "**Task8**:\n",
        "\n",
        "Write out all the possible color compositions of the marbles in the bag, before we observed our data $y$ (which are the marbles drawn in the order of red-white-red).\n",
        "\n",
        "Let each of these possible color compositions be a possible $θ$, or true proportion of red marbles."
      ],
      "metadata": {
        "id": "AmHTGWQQHuAD"
      }
    },
    {
      "cell_type": "markdown",
      "source": [
        "RRRR\n",
        "\n",
        "RRRW\n",
        "\n",
        "RRWW\n",
        "\n",
        "RWWW\n",
        "\n",
        "WWWW"
      ],
      "metadata": {
        "id": "EkPylHwCVK72"
      }
    },
    {
      "cell_type": "markdown",
      "source": [
        "**Task9**:\n",
        "\n",
        "Which color compositions are possible after seeing the data $y$?"
      ],
      "metadata": {
        "id": "-TELvcnVH8N2"
      }
    },
    {
      "cell_type": "markdown",
      "source": [
        "RRRW (3/4)\n",
        "\n",
        "RRWW (2/4)\n",
        "\n",
        "RWWW (1/4)"
      ],
      "metadata": {
        "id": "7q6nUOdNMN9Z"
      }
    },
    {
      "cell_type": "markdown",
      "source": [
        "**Task10**:\n",
        "\n",
        "How many ways can you select red-white-red, assuming that there are 2 red marbles and 2 white marbles?"
      ],
      "metadata": {
        "id": "vIjecZm7OVcy"
      }
    },
    {
      "cell_type": "markdown",
      "source": [
        "8"
      ],
      "metadata": {
        "id": "p2vDjMVIXtWR"
      }
    },
    {
      "cell_type": "markdown",
      "source": [
        "**Task11**:\n",
        "\n",
        "How many different ways can you select three balls so that order matters, given that there are 2 red marbles and 2 white marbles?"
      ],
      "metadata": {
        "id": "Bs7tx0pXhUZy"
      }
    },
    {
      "cell_type": "markdown",
      "source": [
        "64"
      ],
      "metadata": {
        "id": "69ScN4NYh6ks"
      }
    },
    {
      "cell_type": "markdown",
      "source": [
        "**Task12**:\n",
        "\n",
        "What's the probablity you select red-white-red, given that there are 2 red marbles and 2 white marbles?\n",
        "\n",
        "Stated differently,\n",
        "\n",
        "Find the likelihood $p(y|θ)$, where $θ=RRWW$"
      ],
      "metadata": {
        "id": "k87Z69qUg9KV"
      }
    },
    {
      "cell_type": "markdown",
      "source": [
        "8/64"
      ],
      "metadata": {
        "id": "v5bdqu1nri3Y"
      }
    },
    {
      "cell_type": "markdown",
      "source": [
        "**Task13**\n",
        "\n",
        "If--before seeing the data--all color compostions are equally likely,\n",
        "\n",
        "then what is $p(\\theta)$, if $\\theta = RRWW$?"
      ],
      "metadata": {
        "id": "_rZSSoR8NbEY"
      }
    },
    {
      "cell_type": "markdown",
      "source": [
        "1/5"
      ],
      "metadata": {
        "id": "N3PVjOk5wDZT"
      }
    },
    {
      "cell_type": "markdown",
      "source": [
        "**Task14**:\n",
        "\n",
        "Find:\n",
        "\n",
        "- $p(y|WWWW)$\n",
        "- $p(y|RWWW)$\n",
        "- $p(y|RRWW)$\n",
        "- $p(y|RRRW)$\n",
        "- $p(y|RRRR)$"
      ],
      "metadata": {
        "id": "j6e9WP49sZJh"
      }
    },
    {
      "cell_type": "markdown",
      "source": [
        "p(y|WWWW) = 0\n",
        "\n",
        "p(y|RWWW) = 1/4 * 3/4 * 1/4 = 3/64\n",
        "\n",
        "p(y|RRWW) = 2/4 * 2/4 * 2/4 = 8/64\n",
        "\n",
        "p(y|RRRW) = 3/4 * 1/4 * 3/4 = 9/64\n",
        "\n",
        "p(y|RRRR) = 0"
      ],
      "metadata": {
        "id": "NbSC4dj_tf4Y"
      }
    },
    {
      "cell_type": "markdown",
      "source": [
        "**Task15**\n",
        "\n",
        "Assume that each color compostions is equally likely before seeing the data.\n",
        "\n",
        "Find:\n",
        "\n",
        "- $p(y|WWWW)p(WWWW)$\n",
        "- $p(y|RWWW)p(RWWW)$\n",
        "- $p(y|RRWW)p(RRWW)$\n",
        "- $p(y|RRRW)p(RRRW)$\n",
        "- $p(y|RRRR)p(RRRR)$\n"
      ],
      "metadata": {
        "id": "W6f3Ll2oWmMJ"
      }
    },
    {
      "cell_type": "markdown",
      "source": [
        "p(y|WWWW)p(WWWW) = 0\n",
        "\n",
        "p(y|RWWW)p(RWWW) = 3/64 * 1/5 = 3/320\n",
        "\n",
        "p(y|RRWW)p(RRWW) = 8/64 * 1/5 = 8/320\n",
        "\n",
        "p(y|RRRW)p(RRRW) = 9/64 * 1/5 = 9/320\n",
        "\n",
        "p(y|RRRR)p(RRRR) = 0\n"
      ],
      "metadata": {
        "id": "t_TZsERtXMQu"
      }
    },
    {
      "cell_type": "markdown",
      "source": [
        "**Task16**:\n",
        "\n",
        "Find the probablity of getting red-white-red, $p(y)$, given each possible color combination is equally likely."
      ],
      "metadata": {
        "id": "qxSVk_Sjv8Gk"
      }
    },
    {
      "cell_type": "markdown",
      "source": [
        "3/320 + 8/320 + 9/320 = 20/320"
      ],
      "metadata": {
        "id": "641kAEFkOK8b"
      }
    },
    {
      "cell_type": "markdown",
      "source": [
        "**Task17**:\n",
        "\n",
        "After observing a draw of red-white-red, find the probability that there are two red marbles and two white marbles in the bag. Assume that all color compositions were equally likely before the draw.\n",
        "\n",
        "In other words, find $p(θ|y)$, where $θ=RRWW$."
      ],
      "metadata": {
        "id": "CYoWtEwxyNB-"
      }
    },
    {
      "cell_type": "markdown",
      "source": [
        "(8/320) / (20/320) = 8/20 = 2/5"
      ],
      "metadata": {
        "id": "WxX-o3Uuy9eR"
      }
    },
    {
      "cell_type": "markdown",
      "source": [
        "**Task18**:\n",
        "\n",
        "Story time: The marble factory produces bags of four marbles. They want to make red marbles rare, so that people will get excited about them.  Therefore, for each 1 bag containing four red, they made 2 that contain three red, 3 that contain two red, 4 that contain one red, and 5 that contain zero red.\n",
        "\n",
        "With this new prior information, find $p(θ|y)$, where $θ=RRWW$.\n",
        "\n",
        "**NOTE**: You MUST calculate  a new marginal likelihood $p(y)$ with the new prior information."
      ],
      "metadata": {
        "id": "VgMdbaKW1o39"
      }
    },
    {
      "cell_type": "markdown",
      "source": [
        "p(y) = p(rwr)\n",
        "\n",
        "p(WWWW) = 5/15\n",
        "\n",
        "p(RWWW) = 4/15\n",
        "\n",
        "p(RRWW) = 3/15\n",
        "\n",
        "p(RRRW) = 2/15\n",
        "\n",
        "p(RRRR) = 1/15\n",
        "\n",
        "---\n",
        "\n",
        "p(y|WWWW) = 0\n",
        "\n",
        "p(y|RWWW) = 1/4 * 3/4 * 1/4 = 3/64\n",
        "\n",
        "p(y|RRWW) = 2/4 * 2/4 * 2/4 = 8/64\n",
        "\n",
        "p(y|RRRW) = 3/4 * 1/4 * 3/4 = 9/64\n",
        "\n",
        "p(y|RRRR) = 0\n",
        "\n",
        "---\n",
        "\n",
        "p(y|WWWW)p(WWWW) = 0\n",
        "\n",
        "p(y|RWWW)p(RWWW) = 3/64 * 4/15 = 12/960\n",
        "\n",
        "p(y|RRWW)p(RRWW) = 8/64 * 3/15 = 24/960\n",
        "\n",
        "p(y|RRRW)p(RRRW) = 9/64 * 1/15 = 9/960\n",
        "\n",
        "p(y|RRRR)p(RRRR) = 0\n",
        "\n",
        "---\n",
        "\n",
        "p(rwr) = p(y) = 12/960 + 24/960 + 9/960 = 45/960\n",
        "\n",
        "p(θ|y) = (24/960) / (45/960) = 24/45"
      ],
      "metadata": {
        "id": "UMMrUAIs3Dsi"
      }
    },
    {
      "cell_type": "markdown",
      "source": [
        "**Task19**:\n",
        "\n",
        "Write down similarities and differences between this marble example, and the Victor Wembanyama FT example."
      ],
      "metadata": {
        "id": "ABn_s24K4K0H"
      }
    },
    {
      "cell_type": "markdown",
      "source": [
        "- We didn't graph the marble example or this example when the FT example did, and we didn't have multiple data points\n",
        "- We knew p(θ) in the last example, and not the others\n",
        "- We didn't take a second data set for the likelihood in the marbles examples"
      ],
      "metadata": {
        "id": "CAmT3Bd34fhc"
      }
    }
  ]
}